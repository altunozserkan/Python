{
  "nbformat": 4,
  "nbformat_minor": 0,
  "metadata": {
    "kernelspec": {
      "display_name": "Python 3",
      "language": "python",
      "name": "python3"
    },
    "language_info": {
      "codemirror_mode": {
        "name": "ipython",
        "version": 3
      },
      "file_extension": ".py",
      "mimetype": "text/x-python",
      "name": "python",
      "nbconvert_exporter": "python",
      "pygments_lexer": "ipython3",
      "version": "3.7.3"
    },
    "colab": {
      "name": "24_PythonSessions-26-May-2021.ipynb",
      "provenance": [],
      "include_colab_link": true
    }
  },
  "cells": [
    {
      "cell_type": "markdown",
      "metadata": {
        "id": "view-in-github",
        "colab_type": "text"
      },
      "source": [
        "<a href=\"https://colab.research.google.com/github/altunozserkan/git_last/blob/main/24_PythonSessions_26_May_2021.ipynb\" target=\"_parent\"><img src=\"https://colab.research.google.com/assets/colab-badge.svg\" alt=\"Open In Colab\"/></a>"
      ]
    },
    {
      "cell_type": "markdown",
      "metadata": {
        "id": "b2V7qw9UStJn"
      },
      "source": [
        "<img src=\"https://docs.google.com/uc?id=14xeXxFrVRjvOoUYWn_GuyE-v84wVzrqr\" class=\"img-fluid\" alt=\"CLRWY\" width=\"400\" height=\"200\">"
      ]
    },
    {
      "cell_type": "markdown",
      "metadata": {
        "id": "bLedcpzuStJo"
      },
      "source": [
        "<h1><p style=\"text-align: center; color:darkblue\">Python In-Class, <br>26 May 2021</p><h1>"
      ]
    },
    {
      "cell_type": "markdown",
      "metadata": {
        "id": "9eNOB8ovStJq"
      },
      "source": [
        "### Assignment - 10 Sudoku Formatter"
      ]
    },
    {
      "cell_type": "markdown",
      "metadata": {
        "id": "4zCPtqFBStJq"
      },
      "source": [
        "````\n",
        "sudoku = [\n",
        "    [0, 0, 0, 0, 6, 4, 0, 0, 0],\n",
        "    [7, 0, 0, 0, 0, 0, 3, 9, 0],\n",
        "    [8, 0, 0, 0, 0, 0, 0, 0, 0],\n",
        "    [0, 0, 0, 5, 0, 2, 0, 6, 0],\n",
        "    [0, 8, 0, 4, 0, 0, 0, 0, 0],\n",
        "    [3, 5, 0, 6, 0, 0, 0, 7, 0],\n",
        "    [0, 0, 2, 0, 0, 0, 1, 0, 3],\n",
        "    [0, 0, 1, 0, 5, 9, 0, 0, 0],\n",
        "    [0, 0, 0, 0, 0, 0, 7, 0, 0]\n",
        "]\n",
        "\n",
        "- - - - - - - - - - - - - - - \n",
        "0  0  0  | 0  6  4  | 0  0  0  \n",
        "7  0  0  | 0  0  0  | 3  9  0  \n",
        "8  0  0  | 0  0  0  | 0  0  0  \n",
        "- - - - - - - - - - - - - - - \n",
        "0  0  0  | 5  0  2  | 0  6  0  \n",
        "0  8  0  | 4  0  0  | 0  0  0  \n",
        "3  5  0  | 6  0  0  | 0  7  0  \n",
        "- - - - - - - - - - - - - - - \n",
        "0  0  2  | 0  0  0  | 1  0  3  \n",
        "0  0  1  | 0  5  9  | 0  0  0  \n",
        "0  0  0  | 0  0  0  | 7  0  0  \n",
        "- - - - - - - - - - - - - - - \n",
        "```"
      ]
    },
    {
      "cell_type": "code",
      "metadata": {
        "id": "awtvsS9BStJs"
      },
      "source": [
        "sudoku = [\n",
        "    [0, 0, 0, 0, 6, 4, 0, 0, 0],\n",
        "    [7, 0, 0, 0, 0, 0, 3, 9, 0],\n",
        "    [8, 0, 0, 0, 0, 0, 0, 0, 0],\n",
        "    [0, 0, 0, 5, 0, 2, 0, 6, 0],\n",
        "    [0, 8, 0, 4, 0, 0, 0, 0, 0],\n",
        "    [3, 5, 0, 6, 0, 0, 0, 7, 0],\n",
        "    [0, 0, 2, 0, 0, 0, 1, 0, 3],\n",
        "    [0, 0, 1, 0, 5, 9, 0, 0, 0],\n",
        "    [0, 0, 0, 0, 0, 0, 7, 0, 0]\n",
        "]"
      ],
      "execution_count": null,
      "outputs": []
    },
    {
      "cell_type": "code",
      "metadata": {
        "id": "b7NeFUNcStJt",
        "outputId": "6cda5168-a7e3-4706-8e15-6b05dee17da2"
      },
      "source": [
        "type(sudoku)"
      ],
      "execution_count": null,
      "outputs": [
        {
          "output_type": "execute_result",
          "data": {
            "text/plain": [
              "list"
            ]
          },
          "metadata": {
            "tags": []
          },
          "execution_count": 2
        }
      ]
    },
    {
      "cell_type": "code",
      "metadata": {
        "id": "YNTXYSLTStJu",
        "outputId": "7ca18c3c-1b4b-4f5c-af08-9e45b45d535f"
      },
      "source": [
        "len(sudoku)"
      ],
      "execution_count": null,
      "outputs": [
        {
          "output_type": "execute_result",
          "data": {
            "text/plain": [
              "9"
            ]
          },
          "metadata": {
            "tags": []
          },
          "execution_count": 3
        }
      ]
    },
    {
      "cell_type": "code",
      "metadata": {
        "id": "A46VPeTNStJu",
        "outputId": "cc1437a2-ba2c-4552-d7b0-a8069841d416"
      },
      "source": [
        "count = 0\n",
        "\n",
        "print(\"- - - - - - - - - - - - - - - \")\n",
        "for i in sudoku:\n",
        "    for j in range(len(i)) :\n",
        "        print(i[j], \" \", end = \"\")\n",
        "        if (j + 1) == 9 :\n",
        "            print()\n",
        "            count += 1\n",
        "            if count % 3 == 0 and count != 0 :\n",
        "                print(\"- - - - - - - - - - - - - - - \")\n",
        "        if (j + 1) % 3 == 0 and j != 0 and j != 8:\n",
        "            print(\"| \", end = \"\")"
      ],
      "execution_count": null,
      "outputs": [
        {
          "output_type": "stream",
          "text": [
            "- - - - - - - - - - - - - - - \n",
            "0  0  0  | 0  6  4  | 0  0  0  \n",
            "7  0  0  | 0  0  0  | 3  9  0  \n",
            "8  0  0  | 0  0  0  | 0  0  0  \n",
            "- - - - - - - - - - - - - - - \n",
            "0  0  0  | 5  0  2  | 0  6  0  \n",
            "0  8  0  | 4  0  0  | 0  0  0  \n",
            "3  5  0  | 6  0  0  | 0  7  0  \n",
            "- - - - - - - - - - - - - - - \n",
            "0  0  2  | 0  0  0  | 1  0  3  \n",
            "0  0  1  | 0  5  9  | 0  0  0  \n",
            "0  0  0  | 0  0  0  | 7  0  0  \n",
            "- - - - - - - - - - - - - - - \n"
          ],
          "name": "stdout"
        }
      ]
    },
    {
      "cell_type": "code",
      "metadata": {
        "id": "VMNY57q-StJv"
      },
      "source": [
        "x = [([1], [2,3], (4,5,6))]"
      ],
      "execution_count": null,
      "outputs": []
    },
    {
      "cell_type": "code",
      "metadata": {
        "id": "RTonID-YStJw",
        "outputId": "3cfef50e-4165-402b-d509-e367f44af649"
      },
      "source": [
        "len(x)"
      ],
      "execution_count": null,
      "outputs": [
        {
          "output_type": "execute_result",
          "data": {
            "text/plain": [
              "1"
            ]
          },
          "metadata": {
            "tags": []
          },
          "execution_count": 7
        }
      ]
    },
    {
      "cell_type": "code",
      "metadata": {
        "id": "3dBJww4_StJw"
      },
      "source": [
        "# [1,2,3,4,5,6]"
      ],
      "execution_count": null,
      "outputs": []
    },
    {
      "cell_type": "code",
      "metadata": {
        "id": "E7UXuVwkStJw",
        "outputId": "60a7e6ce-2e3f-4742-aa55-44b53d0c6ad0"
      },
      "source": [
        "a = []\n",
        "\n",
        "for i in x :\n",
        "    for j in i :\n",
        "        for z in j :\n",
        "            a.append(z)\n",
        "a"
      ],
      "execution_count": null,
      "outputs": [
        {
          "output_type": "execute_result",
          "data": {
            "text/plain": [
              "[1, 2, 3, 4, 5, 6]"
            ]
          },
          "metadata": {
            "tags": []
          },
          "execution_count": 8
        }
      ]
    },
    {
      "cell_type": "code",
      "metadata": {
        "id": "JqTEaLZzStJx"
      },
      "source": [
        "# {1,2,3,4,5,6}"
      ],
      "execution_count": null,
      "outputs": []
    },
    {
      "cell_type": "code",
      "metadata": {
        "id": "0YXZAkJAStJx",
        "outputId": "bdabe11f-59e2-4c2e-ca46-511bf99f595a"
      },
      "source": [
        "[i for i in range(5)]"
      ],
      "execution_count": null,
      "outputs": [
        {
          "output_type": "execute_result",
          "data": {
            "text/plain": [
              "[0, 1, 2, 3, 4]"
            ]
          },
          "metadata": {
            "tags": []
          },
          "execution_count": 9
        }
      ]
    },
    {
      "cell_type": "code",
      "metadata": {
        "id": "LkjeGmqLStJy",
        "outputId": "058ae785-db66-4d05-c861-9048800e7e1a"
      },
      "source": [
        "{z for i in x for j in i for z in j}"
      ],
      "execution_count": null,
      "outputs": [
        {
          "output_type": "execute_result",
          "data": {
            "text/plain": [
              "{1, 2, 3, 4, 5, 6}"
            ]
          },
          "metadata": {
            "tags": []
          },
          "execution_count": 10
        }
      ]
    },
    {
      "cell_type": "code",
      "metadata": {
        "id": "1p6v7cqyStJy",
        "outputId": "54135d5a-5814-40c2-ddc9-624ecc03e77f"
      },
      "source": [
        "xList = \"elma armut muz\".split()\n",
        "xList"
      ],
      "execution_count": null,
      "outputs": [
        {
          "output_type": "execute_result",
          "data": {
            "text/plain": [
              "['elma', 'armut', 'muz']"
            ]
          },
          "metadata": {
            "tags": []
          },
          "execution_count": 11
        }
      ]
    },
    {
      "cell_type": "code",
      "metadata": {
        "id": "ysxrEsiaStJz",
        "outputId": "66d273bd-2706-4b7c-fcd6-5a3fecc952be"
      },
      "source": [
        "yList = \"selvi vahit ayşe\".split()\n",
        "yList"
      ],
      "execution_count": null,
      "outputs": [
        {
          "output_type": "execute_result",
          "data": {
            "text/plain": [
              "['selvi', 'vahit', 'ayşe']"
            ]
          },
          "metadata": {
            "tags": []
          },
          "execution_count": 12
        }
      ]
    },
    {
      "cell_type": "code",
      "metadata": {
        "id": "jfrXfPWrStJz",
        "outputId": "00f3baa1-4b59-4a96-ed82-057ad4c9ca1c"
      },
      "source": [
        "result = []\n",
        "\n",
        "for i in xList :\n",
        "    for j in yList:\n",
        "        result.append(i + j)\n",
        "result"
      ],
      "execution_count": null,
      "outputs": [
        {
          "output_type": "execute_result",
          "data": {
            "text/plain": [
              "['elmaselvi',\n",
              " 'elmavahit',\n",
              " 'elmaayşe',\n",
              " 'armutselvi',\n",
              " 'armutvahit',\n",
              " 'armutayşe',\n",
              " 'muzselvi',\n",
              " 'muzvahit',\n",
              " 'muzayşe']"
            ]
          },
          "metadata": {
            "tags": []
          },
          "execution_count": 13
        }
      ]
    },
    {
      "cell_type": "code",
      "metadata": {
        "id": "RaOLT92IStJ0",
        "outputId": "ec9f028f-c11b-4852-8ce5-c76a5d2b8aae"
      },
      "source": [
        "[i + j for i in xList for j in yList]"
      ],
      "execution_count": null,
      "outputs": [
        {
          "output_type": "execute_result",
          "data": {
            "text/plain": [
              "['elmaselvi',\n",
              " 'elmavahit',\n",
              " 'elmaayşe',\n",
              " 'armutselvi',\n",
              " 'armutvahit',\n",
              " 'armutayşe',\n",
              " 'muzselvi',\n",
              " 'muzvahit',\n",
              " 'muzayşe']"
            ]
          },
          "metadata": {
            "tags": []
          },
          "execution_count": 14
        }
      ]
    },
    {
      "cell_type": "code",
      "metadata": {
        "id": "FnCSXzw4StJ0",
        "outputId": "62295aee-dca8-4d2b-b2fc-d27a88494f88"
      },
      "source": [
        "[[i + j] for i in xList for j in yList]"
      ],
      "execution_count": null,
      "outputs": [
        {
          "output_type": "execute_result",
          "data": {
            "text/plain": [
              "[['elmaselvi'],\n",
              " ['elmavahit'],\n",
              " ['elmaayşe'],\n",
              " ['armutselvi'],\n",
              " ['armutvahit'],\n",
              " ['armutayşe'],\n",
              " ['muzselvi'],\n",
              " ['muzvahit'],\n",
              " ['muzayşe']]"
            ]
          },
          "metadata": {
            "tags": []
          },
          "execution_count": 15
        }
      ]
    },
    {
      "cell_type": "code",
      "metadata": {
        "id": "DaaqS3OgStJ1",
        "outputId": "9aee76f3-8001-42ab-ef26-5661f2e0ed9a"
      },
      "source": [
        "result = []\n",
        "sayılar = [\"bir\", \"iki\", \"üç\"]\n",
        "for i in range(5):\n",
        "    if i%2==0:\n",
        "        for j in sayılar :\n",
        "            result.append(str(i) + \" --> \" + j)\n",
        "result"
      ],
      "execution_count": null,
      "outputs": [
        {
          "output_type": "execute_result",
          "data": {
            "text/plain": [
              "['0 --> bir',\n",
              " '0 --> iki',\n",
              " '0 --> üç',\n",
              " '2 --> bir',\n",
              " '2 --> iki',\n",
              " '2 --> üç',\n",
              " '4 --> bir',\n",
              " '4 --> iki',\n",
              " '4 --> üç']"
            ]
          },
          "metadata": {
            "tags": []
          },
          "execution_count": 18
        }
      ]
    },
    {
      "cell_type": "code",
      "metadata": {
        "id": "dlQkR96UStJ2",
        "outputId": "329e3c01-d7a5-4284-ecdd-3ea6202e4fb0"
      },
      "source": [
        "[str(i) + \" --> \" + j for i in range(5) for j in sayılar if i % 2 == 0]"
      ],
      "execution_count": null,
      "outputs": [
        {
          "output_type": "execute_result",
          "data": {
            "text/plain": [
              "['0 --> bir',\n",
              " '0 --> iki',\n",
              " '0 --> üç',\n",
              " '2 --> bir',\n",
              " '2 --> iki',\n",
              " '2 --> üç',\n",
              " '4 --> bir',\n",
              " '4 --> iki',\n",
              " '4 --> üç']"
            ]
          },
          "metadata": {
            "tags": []
          },
          "execution_count": 19
        }
      ]
    },
    {
      "cell_type": "markdown",
      "metadata": {
        "id": "KTFzx-w-StJ3"
      },
      "source": [
        "### Girilen üç sayıdan kaç tanesi tekrarlıyor. Bunu gösteren bir fonksiyon yazalım"
      ]
    },
    {
      "cell_type": "code",
      "metadata": {
        "colab": {
          "base_uri": "https://localhost:8080/",
          "height": 203
        },
        "id": "jUQ0-KmRStJ4",
        "outputId": "da0fa99f-8bd1-4eca-b4b3-b62c1fd91302"
      },
      "source": [
        "equal(4,4,4)  # ==> 3\n",
        "equal(3,4,4)  # ==> 2\n",
        "equal(1,2,3)  # ==> 0"
      ],
      "execution_count": 1,
      "outputs": [
        {
          "output_type": "error",
          "ename": "NameError",
          "evalue": "ignored",
          "traceback": [
            "\u001b[0;31m---------------------------------------------------------------------------\u001b[0m",
            "\u001b[0;31mNameError\u001b[0m                                 Traceback (most recent call last)",
            "\u001b[0;32m<ipython-input-1-df6fe06020b1>\u001b[0m in \u001b[0;36m<module>\u001b[0;34m()\u001b[0m\n\u001b[0;32m----> 1\u001b[0;31m \u001b[0mequal\u001b[0m\u001b[0;34m(\u001b[0m\u001b[0;36m4\u001b[0m\u001b[0;34m,\u001b[0m\u001b[0;36m4\u001b[0m\u001b[0;34m,\u001b[0m\u001b[0;36m4\u001b[0m\u001b[0;34m)\u001b[0m  \u001b[0;31m# ==> 3\u001b[0m\u001b[0;34m\u001b[0m\u001b[0;34m\u001b[0m\u001b[0m\n\u001b[0m\u001b[1;32m      2\u001b[0m \u001b[0mequal\u001b[0m\u001b[0;34m(\u001b[0m\u001b[0;36m3\u001b[0m\u001b[0;34m,\u001b[0m\u001b[0;36m4\u001b[0m\u001b[0;34m,\u001b[0m\u001b[0;36m4\u001b[0m\u001b[0;34m)\u001b[0m  \u001b[0;31m# ==> 2\u001b[0m\u001b[0;34m\u001b[0m\u001b[0;34m\u001b[0m\u001b[0m\n\u001b[1;32m      3\u001b[0m \u001b[0mequal\u001b[0m\u001b[0;34m(\u001b[0m\u001b[0;36m1\u001b[0m\u001b[0;34m,\u001b[0m\u001b[0;36m2\u001b[0m\u001b[0;34m,\u001b[0m\u001b[0;36m3\u001b[0m\u001b[0;34m)\u001b[0m  \u001b[0;31m# ==> 0\u001b[0m\u001b[0;34m\u001b[0m\u001b[0;34m\u001b[0m\u001b[0m\n",
            "\u001b[0;31mNameError\u001b[0m: name 'equal' is not defined"
          ]
        }
      ]
    },
    {
      "cell_type": "code",
      "metadata": {
        "id": "23Zj3hF5StJ4"
      },
      "source": [
        "num = [5,1,1]"
      ],
      "execution_count": null,
      "outputs": []
    },
    {
      "cell_type": "code",
      "metadata": {
        "id": "LEHHiAcAStJ5"
      },
      "source": [
        "max(num)"
      ],
      "execution_count": null,
      "outputs": []
    },
    {
      "cell_type": "code",
      "metadata": {
        "id": "pRJpx7acStJ5"
      },
      "source": [
        "num.count(max(num, key = num.count))"
      ],
      "execution_count": null,
      "outputs": []
    },
    {
      "cell_type": "code",
      "metadata": {
        "id": "SjrVX8gmStJ6"
      },
      "source": [
        "num.count(1)"
      ],
      "execution_count": null,
      "outputs": []
    },
    {
      "cell_type": "code",
      "metadata": {
        "id": "sfehFMqYStJ6"
      },
      "source": [
        "num.count(5)"
      ],
      "execution_count": null,
      "outputs": []
    },
    {
      "cell_type": "code",
      "metadata": {
        "id": "zjS7Yxi6StJ7"
      },
      "source": [
        "num.count(1)"
      ],
      "execution_count": null,
      "outputs": []
    },
    {
      "cell_type": "code",
      "metadata": {
        "id": "zED24E5qStJ7"
      },
      "source": [
        "def equal(a, b, c) :\n",
        "    numbers = [a, b, c]\n",
        "    result = numbers.count(max(numbers, key = numbers.count))\n",
        "    if result > 1 :\n",
        "        return result\n",
        "    else :\n",
        "        return 0"
      ],
      "execution_count": null,
      "outputs": []
    },
    {
      "cell_type": "code",
      "metadata": {
        "id": "wa5lt1V_StJ8"
      },
      "source": [
        "equal(1,1,5)"
      ],
      "execution_count": null,
      "outputs": []
    },
    {
      "cell_type": "code",
      "metadata": {
        "id": "tC6HtfNWStJ8"
      },
      "source": [
        "equal(5,5,5)"
      ],
      "execution_count": null,
      "outputs": []
    },
    {
      "cell_type": "code",
      "metadata": {
        "id": "_UHwYE_YStJ8"
      },
      "source": [
        "equal(1,2,3)"
      ],
      "execution_count": null,
      "outputs": []
    },
    {
      "cell_type": "code",
      "metadata": {
        "id": "co1v26m5StJ9"
      },
      "source": [
        "def equal(*a) :\n",
        "    numbers = list(a)\n",
        "    result = numbers.count(max(numbers, key = numbers.count))\n",
        "    if result > 1 :\n",
        "        return result\n",
        "    else :\n",
        "        return 0"
      ],
      "execution_count": null,
      "outputs": []
    },
    {
      "cell_type": "code",
      "metadata": {
        "id": "ccQCC2ZUStJ9"
      },
      "source": [
        "equal(1,2,3,4,5,5,5,6,7,7)"
      ],
      "execution_count": null,
      "outputs": []
    },
    {
      "cell_type": "code",
      "metadata": {
        "id": "aS4iIm6DStJ-"
      },
      "source": [
        "# def equal(*a) :\n",
        "#     numbers = list(a)\n",
        "#     result = numbers.count(max(numbers, key = numbers.count))\n",
        "#     return result"
      ],
      "execution_count": null,
      "outputs": []
    },
    {
      "cell_type": "code",
      "metadata": {
        "id": "qbor1_qBStJ-"
      },
      "source": [
        "# equal(1,2,3,4,5)"
      ],
      "execution_count": null,
      "outputs": []
    },
    {
      "cell_type": "code",
      "metadata": {
        "id": "d9Q4D9j3StJ-"
      },
      "source": [
        "\"\\r\\n\"\n",
        "\"\\n\"\n",
        "\"\\r\""
      ],
      "execution_count": null,
      "outputs": []
    },
    {
      "cell_type": "code",
      "metadata": {
        "id": "SLFgJ1tXStJ_"
      },
      "source": [
        "import pandas as pd"
      ],
      "execution_count": null,
      "outputs": []
    },
    {
      "cell_type": "code",
      "metadata": {
        "id": "rl1XuGhGStJ_"
      },
      "source": [
        "titanic = pd.read_csv(\"titanic.csv\")"
      ],
      "execution_count": null,
      "outputs": []
    },
    {
      "cell_type": "code",
      "metadata": {
        "id": "4bUB-TzLStJ_"
      },
      "source": [
        "titanic"
      ],
      "execution_count": null,
      "outputs": []
    },
    {
      "cell_type": "code",
      "metadata": {
        "id": "4hMQv1bGStKA"
      },
      "source": [
        "bayanlar = titanic[titanic[\"Sex\"] == \"female\"]"
      ],
      "execution_count": null,
      "outputs": []
    },
    {
      "cell_type": "code",
      "metadata": {
        "id": "SC69H3laStKA"
      },
      "source": [
        "bayanlar.to_csv(\"titanic_bayanlar.csv\")"
      ],
      "execution_count": null,
      "outputs": []
    },
    {
      "cell_type": "code",
      "metadata": {
        "id": "Wore6Qe1StKA"
      },
      "source": [
        "vefat = titanic[titanic[\"Survived\"] == 0]"
      ],
      "execution_count": null,
      "outputs": []
    },
    {
      "cell_type": "code",
      "metadata": {
        "id": "PBBass2NStKB"
      },
      "source": [
        "vefat.to_csv(\"titanic_vefat.csv\")"
      ],
      "execution_count": null,
      "outputs": []
    },
    {
      "cell_type": "code",
      "metadata": {
        "id": "6IbCIRP3StKB"
      },
      "source": [
        "titanic.groupby(\"Sex\")[\"Survived\"].mean()"
      ],
      "execution_count": null,
      "outputs": []
    },
    {
      "cell_type": "code",
      "metadata": {
        "id": "jECSR6hIStKB"
      },
      "source": [
        "titanic.groupby(\"Pclass\")[\"Survived\"].mean()"
      ],
      "execution_count": null,
      "outputs": []
    },
    {
      "cell_type": "code",
      "metadata": {
        "id": "iwhfCwESStKC"
      },
      "source": [
        "vefat = pd.read_csv(\"titanic_vefat.csv\", index_col=0)"
      ],
      "execution_count": null,
      "outputs": []
    },
    {
      "cell_type": "code",
      "metadata": {
        "id": "IhfNitc7StKC"
      },
      "source": [
        "vefat"
      ],
      "execution_count": null,
      "outputs": []
    },
    {
      "cell_type": "markdown",
      "metadata": {
        "id": "p4-Ar_tnStKC"
      },
      "source": [
        "### show me my way, please! <img src=\"https://www.robotsepeti.com/nao-insansi-robot-platformu-v6-egitmen-educator-versiyonu-insansi-robot-softbank-robotics-9282-48-B.png\" height = \"100\" width=\"300\" alt=\"Robot\">"
      ]
    },
    {
      "cell_type": "code",
      "metadata": {
        "id": "Ckk7s5pvStKD"
      },
      "source": [
        "L = [\"right 20\", \"right 30\", \"left 50\", \"up 10\", \"down 20\"]"
      ],
      "execution_count": null,
      "outputs": []
    },
    {
      "cell_type": "code",
      "metadata": {
        "id": "s7ZhFwDDStKD"
      },
      "source": [
        "x = y = 0"
      ],
      "execution_count": null,
      "outputs": []
    },
    {
      "cell_type": "code",
      "metadata": {
        "id": "x-BplN2oStKD",
        "outputId": "f95c44a4-c3d9-4eda-d7fe-7a3c9eff134a"
      },
      "source": [
        "for i in range(len(L)) :\n",
        "    if L[i].startswith(\"r\") : x = x + int(L[i].split()[1])\n",
        "    elif L[i].startswith(\"l\") : x = x - int(L[i].split()[1])\n",
        "    elif L[i].startswith(\"u\") : y = y + int(L[i].split()[1])\n",
        "    elif L[i].startswith(\"d\") : y = y - int(L[i].split()[1])\n",
        "[x, y]"
      ],
      "execution_count": null,
      "outputs": [
        {
          "output_type": "execute_result",
          "data": {
            "text/plain": [
              "[0, -10]"
            ]
          },
          "metadata": {
            "tags": []
          },
          "execution_count": 71
        }
      ]
    },
    {
      "cell_type": "code",
      "metadata": {
        "id": "Ekvp97xSStKE",
        "outputId": "457510d0-d5bf-4beb-b676-1b37564d09ee"
      },
      "source": [
        "\"right 20\".split()[1]"
      ],
      "execution_count": null,
      "outputs": [
        {
          "output_type": "execute_result",
          "data": {
            "text/plain": [
              "'20'"
            ]
          },
          "metadata": {
            "tags": []
          },
          "execution_count": 66
        }
      ]
    },
    {
      "cell_type": "code",
      "metadata": {
        "id": "h6sMYX1CStKE",
        "outputId": "3e23c5af-cbce-4b7f-fcb2-8a83232c409f"
      },
      "source": [
        "print(\"ahttps://www.google.com\".startswith((\"http://\", \"https://\", \"ahttp\")))"
      ],
      "execution_count": null,
      "outputs": [
        {
          "output_type": "stream",
          "text": [
            "True\n"
          ],
          "name": "stdout"
        }
      ]
    },
    {
      "cell_type": "code",
      "metadata": {
        "id": "qfBfH0_FStKF",
        "outputId": "fa19c90c-8aa7-4701-e287-e37a77117f6a"
      },
      "source": [
        "print(\"http://www.google.co.uk\".endswith((\".com\", \"co.uk\")))"
      ],
      "execution_count": null,
      "outputs": [
        {
          "output_type": "stream",
          "text": [
            "True\n"
          ],
          "name": "stdout"
        }
      ]
    },
    {
      "cell_type": "code",
      "metadata": {
        "id": "SI5QRhlOStKF"
      },
      "source": [
        "ops = {\"+\" : (lambda x, y : x+y), \"-\" : (lambda x, y : x-y), \"/\" : (lambda x, y : x/y)}"
      ],
      "execution_count": null,
      "outputs": []
    },
    {
      "cell_type": "code",
      "metadata": {
        "id": "g5OzTptYStKF",
        "outputId": "3b1ab6b6-536d-4878-d162-5a112a8a147e"
      },
      "source": [
        "ops"
      ],
      "execution_count": null,
      "outputs": [
        {
          "output_type": "execute_result",
          "data": {
            "text/plain": [
              "{'+': <function __main__.<lambda>(x, y)>,\n",
              " '-': <function __main__.<lambda>(x, y)>,\n",
              " '/': <function __main__.<lambda>(x, y)>}"
            ]
          },
          "metadata": {
            "tags": []
          },
          "execution_count": 78
        }
      ]
    },
    {
      "cell_type": "code",
      "metadata": {
        "id": "PCfrzYoNStKG",
        "outputId": "b2233144-9d06-4ed2-a1cf-c304cccd04ef"
      },
      "source": [
        "ops[\"+\"](3, 5)"
      ],
      "execution_count": null,
      "outputs": [
        {
          "output_type": "execute_result",
          "data": {
            "text/plain": [
              "8"
            ]
          },
          "metadata": {
            "tags": []
          },
          "execution_count": 80
        }
      ]
    },
    {
      "cell_type": "code",
      "metadata": {
        "id": "kO_c0LmWStKG",
        "outputId": "87b5fb00-0b17-4003-ba58-b65d8783d4be"
      },
      "source": [
        "ops[\"-\"](11, 5)"
      ],
      "execution_count": null,
      "outputs": [
        {
          "output_type": "execute_result",
          "data": {
            "text/plain": [
              "6"
            ]
          },
          "metadata": {
            "tags": []
          },
          "execution_count": 82
        }
      ]
    },
    {
      "cell_type": "code",
      "metadata": {
        "id": "sftLng6YStKH"
      },
      "source": [
        "normal = {\"bir\" : 11, \"iki\" : 22}"
      ],
      "execution_count": null,
      "outputs": []
    },
    {
      "cell_type": "code",
      "metadata": {
        "id": "sISmQ7fvStKH",
        "outputId": "9cb64d27-684b-4663-a57b-388b4a39fda5"
      },
      "source": [
        "normal[\"bir\"]"
      ],
      "execution_count": null,
      "outputs": [
        {
          "output_type": "execute_result",
          "data": {
            "text/plain": [
              "11"
            ]
          },
          "metadata": {
            "tags": []
          },
          "execution_count": 84
        }
      ]
    },
    {
      "cell_type": "code",
      "metadata": {
        "id": "nLA6in0PStKH",
        "outputId": "a2157293-6dc2-4a40-b91f-5ae503af50b6"
      },
      "source": [
        "type(normal[\"bir\"])"
      ],
      "execution_count": null,
      "outputs": [
        {
          "output_type": "execute_result",
          "data": {
            "text/plain": [
              "int"
            ]
          },
          "metadata": {
            "tags": []
          },
          "execution_count": 85
        }
      ]
    },
    {
      "cell_type": "code",
      "metadata": {
        "id": "gPCzlnwiStKI"
      },
      "source": [
        ""
      ],
      "execution_count": null,
      "outputs": []
    }
  ]
}