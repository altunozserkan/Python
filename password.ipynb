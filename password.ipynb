{
  "nbformat": 4,
  "nbformat_minor": 0,
  "metadata": {
    "colab": {
      "name": "password.ipynb",
      "provenance": [],
      "authorship_tag": "ABX9TyPKACwXhSwDL0lnXbeZSDQd",
      "include_colab_link": true
    },
    "kernelspec": {
      "name": "python3",
      "display_name": "Python 3"
    },
    "language_info": {
      "name": "python"
    }
  },
  "cells": [
    {
      "cell_type": "markdown",
      "metadata": {
        "id": "view-in-github",
        "colab_type": "text"
      },
      "source": [
        "<a href=\"https://colab.research.google.com/github/altunozserkan/git_last/blob/main/password.ipynb\" target=\"_parent\"><img src=\"https://colab.research.google.com/assets/colab-badge.svg\" alt=\"Open In Colab\"/></a>"
      ]
    },
    {
      "cell_type": "code",
      "metadata": {
        "colab": {
          "base_uri": "https://localhost:8080/"
        },
        "id": "GqJX5q0xZo0c",
        "outputId": "cea27bd2-08e6-4b9a-a7fc-71d8844ff2b3"
      },
      "source": [
        "name = \"Serkan\"\n",
        "atmpt= input(\"Enter your first name:\").strip().title()\n",
        "if name == atmpt:\n",
        "    print(f\"Hello,{name}! The password is : Clarus\")\n",
        "else:\n",
        "    print(f\"Hello, {atmpt}! See you later.\")"
      ],
      "execution_count": 4,
      "outputs": [
        {
          "output_type": "stream",
          "text": [
            "Enter your first name:Serkan\n",
            "Hello,Serkan! The password is : Clarus\n"
          ],
          "name": "stdout"
        }
      ]
    }
  ]
}