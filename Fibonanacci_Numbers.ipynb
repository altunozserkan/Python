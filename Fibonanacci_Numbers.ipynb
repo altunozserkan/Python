{
  "nbformat": 4,
  "nbformat_minor": 0,
  "metadata": {
    "colab": {
      "name": "Fibonanacci Numbers.ipynb",
      "provenance": [],
      "authorship_tag": "ABX9TyNJtVVq+C34tq538Jt0SZo8",
      "include_colab_link": true
    },
    "kernelspec": {
      "name": "python3",
      "display_name": "Python 3"
    },
    "language_info": {
      "name": "python"
    }
  },
  "cells": [
    {
      "cell_type": "markdown",
      "metadata": {
        "id": "view-in-github",
        "colab_type": "text"
      },
      "source": [
        "<a href=\"https://colab.research.google.com/github/altunozserkan/git_last/blob/main/Fibonanacci_Numbers.ipynb\" target=\"_parent\"><img src=\"https://colab.research.google.com/assets/colab-badge.svg\" alt=\"Open In Colab\"/></a>"
      ]
    },
    {
      "cell_type": "code",
      "metadata": {
        "colab": {
          "base_uri": "https://localhost:8080/"
        },
        "id": "vbU80pU4rYMG",
        "outputId": "7c39b8ba-7ec6-463e-8e98-2043a344e378"
      },
      "source": [
        "fib_num = [0,1]\n",
        "for i in range(2,11):\n",
        "    fib_num.append(fib_num[i-1]+fib_num[i-2])\n",
        "print(fib_num)\n"
      ],
      "execution_count": 8,
      "outputs": [
        {
          "output_type": "stream",
          "text": [
            "[0, 1, 1, 2, 3, 5, 8, 13, 21, 34, 55]\n"
          ],
          "name": "stdout"
        }
      ]
    }
  ]
}