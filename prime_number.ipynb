{
  "nbformat": 4,
  "nbformat_minor": 0,
  "metadata": {
    "colab": {
      "name": "prime number.ipynb",
      "provenance": [],
      "authorship_tag": "ABX9TyN6qYdOxiTPK+mwUtJU9tTO",
      "include_colab_link": true
    },
    "kernelspec": {
      "name": "python3",
      "display_name": "Python 3"
    },
    "language_info": {
      "name": "python"
    }
  },
  "cells": [
    {
      "cell_type": "markdown",
      "metadata": {
        "id": "view-in-github",
        "colab_type": "text"
      },
      "source": [
        "<a href=\"https://colab.research.google.com/github/altunozserkan/git_last/blob/main/prime_number.ipynb\" target=\"_parent\"><img src=\"https://colab.research.google.com/assets/colab-badge.svg\" alt=\"Open In Colab\"/></a>"
      ]
    },
    {
      "cell_type": "code",
      "metadata": {
        "colab": {
          "base_uri": "https://localhost:8080/"
        },
        "id": "bmgn_3bYVj7R",
        "outputId": "8d811093-6f86-4ff3-bf6f-bbe788e793af"
      },
      "source": [
        "n = int(input(\"Please enter a number to check if it is prime :\"))\n",
        "if n > 1 :\n",
        "    for x in range(2,n) :\n",
        "        if n % x == 0 :\n",
        "            print(n,\"is not a prime number.\")\n",
        "            break\n",
        "    else :\n",
        "      print(n,\"is a prime number.\")\n",
        "else :\n",
        "    print(n,\"is not a prime number.\")\n",
        "      "
      ],
      "execution_count": 4,
      "outputs": [
        {
          "output_type": "stream",
          "text": [
            "Please enter a number to check if it is prime :25\n",
            "25 is not a prime number.\n"
          ],
          "name": "stdout"
        }
      ]
    }
  ]
}