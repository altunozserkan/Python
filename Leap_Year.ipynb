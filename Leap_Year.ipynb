{
  "nbformat": 4,
  "nbformat_minor": 0,
  "metadata": {
    "colab": {
      "name": "Leap Year.ipynb",
      "provenance": [],
      "authorship_tag": "ABX9TyNiaHkRDdrGVeqQ6MnL224+"
    },
    "kernelspec": {
      "name": "python3",
      "display_name": "Python 3"
    },
    "language_info": {
      "name": "python"
    }
  },
  "cells": [
    {
      "cell_type": "code",
      "metadata": {
        "colab": {
          "base_uri": "https://localhost:8080/"
        },
        "id": "V6Rkhd8nDWjn",
        "outputId": "eb1efea0-6bf7-4b5d-9fb9-dd3a6af9a2d0"
      },
      "source": [
        "def leap_year(year):\n",
        "  if (year%4 == 0 and year%100 == 0 and  year%400 == 0) or (year%4 == 0 and year%100 !=0):\n",
        "    print(f\"{year} is a leap year\")\n",
        "  else:\n",
        "    print(f\"{year} is not a leap year\")\n",
        "leap_year(2019)\n"
      ],
      "execution_count": 12,
      "outputs": [
        {
          "output_type": "stream",
          "text": [
            "2019 is not a leap year\n"
          ],
          "name": "stdout"
        }
      ]
    }
  ]
}