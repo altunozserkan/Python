{
  "nbformat": 4,
  "nbformat_minor": 0,
  "metadata": {
    "colab": {
      "name": "Armstrong Number.ipynb",
      "provenance": [],
      "authorship_tag": "ABX9TyPpULFhHj4wkufDGhOSPJVK",
      "include_colab_link": true
    },
    "kernelspec": {
      "name": "python3",
      "display_name": "Python 3"
    },
    "language_info": {
      "name": "python"
    }
  },
  "cells": [
    {
      "cell_type": "markdown",
      "metadata": {
        "id": "view-in-github",
        "colab_type": "text"
      },
      "source": [
        "<a href=\"https://colab.research.google.com/github/altunozserkan/git_last/blob/main/Armstrong_Number.ipynb\" target=\"_parent\"><img src=\"https://colab.research.google.com/assets/colab-badge.svg\" alt=\"Open In Colab\"/></a>"
      ]
    },
    {
      "cell_type": "code",
      "metadata": {
        "colab": {
          "base_uri": "https://localhost:8080/"
        },
        "id": "j4qavRLIOk9L",
        "outputId": "db8bf624-89d2-4739-e828-4597df50a474"
      },
      "source": [
        "num = input(\"Enter the number :\")\n",
        "order = len(str(num))\n",
        "sum = 0\n",
        "if num.strip().isdigit():\n",
        "    temp = int(num)\n",
        "    while temp > 0:\n",
        "       digit = temp % 10\n",
        "       sum += digit ** order\n",
        "       temp //= 10\n",
        "    if int(num) == sum:\n",
        "        print(num,\"is an Armstrong number.\")\n",
        "    else:\n",
        "        print(num,\"is not an Armstrong number.\")\n",
        "else : \n",
        "    print(\"It is an invalid entry. Don't use non-numeric, float, or negative values !\")"
      ],
      "execution_count": 14,
      "outputs": [
        {
          "output_type": "stream",
          "text": [
            "Enter the number :76.8\n",
            "It is an invalid entry. Don't use non-numeric, float, or negative values !\n"
          ],
          "name": "stdout"
        }
      ]
    }
  ]
}