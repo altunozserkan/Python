{
  "nbformat": 4,
  "nbformat_minor": 0,
  "metadata": {
    "colab": {
      "name": "Letter_Count.ipynb",
      "provenance": [],
      "authorship_tag": "ABX9TyOYbG6/mYzxov4c9J5amXtA"
    },
    "kernelspec": {
      "name": "python3",
      "display_name": "Python 3"
    },
    "language_info": {
      "name": "python"
    }
  },
  "cells": [
    {
      "cell_type": "code",
      "metadata": {
        "colab": {
          "base_uri": "https://localhost:8080/"
        },
        "id": "fSrUGDtCK808",
        "outputId": "aa5f05fa-c14b-44a6-da29-4080d167a1d9"
      },
      "source": [
        "def char_frequency(c):\n",
        "    a = {}\n",
        "    for n in c:\n",
        "        b = a.keys()\n",
        "        if n in b:\n",
        "            a[n] += 1\n",
        "        else:\n",
        "            a[n] = 1\n",
        "    return a\n",
        "char_frequency(\"hippo runs to us!\")"
      ],
      "execution_count": 5,
      "outputs": [
        {
          "output_type": "execute_result",
          "data": {
            "text/plain": [
              "{' ': 3,\n",
              " '!': 1,\n",
              " 'h': 1,\n",
              " 'i': 1,\n",
              " 'n': 1,\n",
              " 'o': 2,\n",
              " 'p': 2,\n",
              " 'r': 1,\n",
              " 's': 2,\n",
              " 't': 1,\n",
              " 'u': 2}"
            ]
          },
          "metadata": {
            "tags": []
          },
          "execution_count": 5
        }
      ]
    }
  ]
}