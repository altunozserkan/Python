{
  "nbformat": 4,
  "nbformat_minor": 0,
  "metadata": {
    "colab": {
      "name": "Covid-19 Risk.ipynb",
      "provenance": [],
      "authorship_tag": "ABX9TyPFpLlRfr62r936HEQPS0SS",
      "include_colab_link": true
    },
    "kernelspec": {
      "name": "python3",
      "display_name": "Python 3"
    },
    "language_info": {
      "name": "python"
    }
  },
  "cells": [
    {
      "cell_type": "markdown",
      "metadata": {
        "id": "view-in-github",
        "colab_type": "text"
      },
      "source": [
        "<a href=\"https://colab.research.google.com/github/altunozserkan/git_last/blob/main/Covid_19_Risk.ipynb\" target=\"_parent\"><img src=\"https://colab.research.google.com/assets/colab-badge.svg\" alt=\"Open In Colab\"/></a>"
      ]
    },
    {
      "cell_type": "code",
      "metadata": {
        "id": "s3VWnBJPDkbJ"
      },
      "source": [
        "age = input(\"Are you a cigarette addict older than 75 years old?\").title() \n",
        "\n",
        "chronic = input(\"Do you have a severe chronic disease? \").title() \n",
        "\n",
        "immune = input(\"Is your immune system too weak? \").title()  \n",
        "\n",
        "if  age == \"Yes\":\n",
        "    age = True\n",
        "else:\n",
        "    age = False\n",
        "\n",
        "if  chronic== \"Yes\":\n",
        "    chronic = True\n",
        "else:\n",
        "    chronic = False\n",
        "\n",
        "if  immune == \"Yes\":\n",
        "    immune = True\n",
        "else:\n",
        "    immune = False \n",
        "\n",
        "if age and chronic and immune == True :\n",
        "    print(\"You are in risky group.\")\n",
        "else :\n",
        "    print(\"You are not in risky group\")"
      ],
      "execution_count": null,
      "outputs": []
    }
  ]
}